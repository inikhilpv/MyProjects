{
 "cells": [
  {
   "cell_type": "markdown",
   "metadata": {},
   "source": [
    "# Create a function in python to read the text file and replace specific content of the file.\n",
    "\n",
    "File name - example.txt<br>\n",
    "Origin file content - This is a placement assignment.<br>\n",
    "Replace string - Placement should be replaced by screening.<br>\n",
    "Replaced file content - This is a screening assignment.<br>"
   ]
  },
  {
   "cell_type": "code",
   "execution_count": 1,
   "metadata": {},
   "outputs": [
    {
     "name": "stdout",
     "output_type": "stream",
     "text": [
      "Orignial file content: This is a screening assignment\n",
      "Matching word not found in the file\n"
     ]
    }
   ],
   "source": [
    "import logging\n",
    "logging.basicConfig(filename=\"ScreeningAssignment.log\",level=logging.DEBUG,format=\"%(asctime)s %(levelname)s %(message)s\",filemode='w')\n",
    "\n",
    "class ReplaceContent():\n",
    "    def ReadFile(self):\n",
    "        logging.info(\"Executing ReadFile function\")\n",
    "        try:\n",
    "            logging.info(\"Reading the file\")\n",
    "            with open(f\"example.txt\",'r+') as f:\n",
    "                data=f.read()\n",
    "                if \"placement\" in data:\n",
    "                    print(\"Orignial file content:\",data)\n",
    "                    data = data.replace(\"placement\", \"screening\")\n",
    "                    f.seek(0)\n",
    "                    logging.info(\"Writing the replaced content to the file\")\n",
    "                    f.write(data)\n",
    "                    f.seek(0)\n",
    "                    print(\"Replaced file content:\",f.read())\n",
    "                    f.close()\n",
    "                else:\n",
    "                    print(\"Orignial file content:\",data)\n",
    "                    print(\"Matching word not found in the file\")\n",
    "        except Exception as e:\n",
    "                logging.error(\"Error occurred while opening the file\")\n",
    "                logging.exception(f\"Error is {e}\")\n",
    "obj=ReplaceContent()\n",
    "obj.ReadFile()"
   ]
  },
  {
   "cell_type": "markdown",
   "metadata": {},
   "source": [
    "# Demonstrate use of abstract class, multiple inheritance and decorator in python using examples."
   ]
  },
  {
   "cell_type": "markdown",
   "metadata": {},
   "source": [
    "__Abstract Class__<br>\n",
    "Abstraction is an OOP concept that is used to hide the internal functionality of the classes from the users. Abstract class is used to implement abstraction. It is created to declare the methods that must be created in any child class of this abstract class. Each child class can give its own implementation of the abstract methods in them."
   ]
  },
  {
   "cell_type": "code",
   "execution_count": 2,
   "metadata": {},
   "outputs": [
    {
     "name": "stdout",
     "output_type": "stream",
     "text": [
      "A triangle has 3 sides\n",
      "A rectangle has 4 sides\n",
      "A pentagon has 5 sides\n",
      "A hexagon has 6 sides\n"
     ]
    }
   ],
   "source": [
    "#Example of Abstract class\n",
    "from abc import ABC,abstractmethod\n",
    "\n",
    "#creating the abstract class\n",
    "class Shape(ABC):\n",
    "    \n",
    "    #creating the abstract method\n",
    "    def sides(self):\n",
    "        pass\n",
    "\n",
    "#creating the sub class\n",
    "class Triangle(Shape):\n",
    " \n",
    "    # overriding abstract method\n",
    "    def sides(self):\n",
    "        print(\"A triangle has 3 sides\")\n",
    "\n",
    "#creating the sub class\n",
    "class Rectangle(Shape):\n",
    " \n",
    "    # overriding abstract method\n",
    "    def sides(self):\n",
    "        print(\"A rectangle has 4 sides\")\n",
    "\n",
    "#creating the sub class\n",
    "class Pentagon(Shape):\n",
    " \n",
    "    # overriding abstract method\n",
    "    def sides(self):\n",
    "        print(\"A pentagon has 5 sides\")\n",
    "\n",
    "#creating the sub class\n",
    "class Hexagon(Shape):\n",
    " \n",
    "    # overriding abstract method\n",
    "    def sides(self):\n",
    "        print(\"A hexagon has 6 sides\")\n",
    "\n",
    "\n",
    "t=Triangle()\n",
    "t.sides()\n",
    " \n",
    "r=Rectangle()\n",
    "r.sides()\n",
    " \n",
    "p=Pentagon()\n",
    "p.sides()\n",
    " \n",
    "h=Hexagon()\n",
    "h.sides()"
   ]
  },
  {
   "cell_type": "markdown",
   "metadata": {},
   "source": [
    "__Multiple Inheritance__<br>\n",
    "In multiple inheritance, a single child class is inherited from two or more parent classes. This means the child class has access to all the methods and attributes of all the parent classes."
   ]
  },
  {
   "cell_type": "code",
   "execution_count": 3,
   "metadata": {},
   "outputs": [
    {
     "name": "stdout",
     "output_type": "stream",
     "text": [
      "10 + 5 = 15\n",
      "10 - 5 = 5\n",
      "10 * 5 = 50\n",
      "10 / 5 = 2.0\n"
     ]
    }
   ],
   "source": [
    "#Example of Multiple inheritance\n",
    "\n",
    "#Creating the parent class\n",
    "class Addition:  \n",
    "    def Sum(a,b):  \n",
    "        print(a,\"+\",b,\"=\",a+b)\n",
    "\n",
    "\n",
    "#Creating the parent class Subtraction        \n",
    "class Subtraction:  \n",
    "    def Sub(a,b):  \n",
    "        print(a,\"-\",b,\"=\",a-b)\n",
    "\n",
    "\n",
    "#Creating the parent class Multiplication \n",
    "class Multiplication:  \n",
    "    def Multi(a,b):  \n",
    "        print(a,\"*\",b,\"=\",a*b)\n",
    "        \n",
    "\n",
    "#Creating the parent class Division   \n",
    "class Division:  \n",
    "    def Div(a,b):  \n",
    "        print(a,\"/\",b,\"=\",a/b) \n",
    "\n",
    "        \n",
    "#Creating the child class Calculation\n",
    "class Calculation(Addition,Subtraction,Multiplication,Division):  \n",
    "    def calculate(self,num1,num2):\n",
    "        self.num1=num1\n",
    "        self.num2=num2\n",
    "        Addition.Sum(num1,num2)\n",
    "        Subtraction.Sub(num1,num2)\n",
    "        Multiplication.Multi(num1,num2)\n",
    "        Division.Div(num1,num2)\n",
    "        \n",
    "\n",
    "c = Calculation()  \n",
    "c.calculate(10,5)"
   ]
  },
  {
   "cell_type": "markdown",
   "metadata": {},
   "source": [
    "__Decorator__<br>\n",
    "A Decorator is a function that takes another function as an argument and extends the behavior of the latter function without explicitly modifying it."
   ]
  },
  {
   "cell_type": "code",
   "execution_count": 4,
   "metadata": {},
   "outputs": [
    {
     "name": "stdout",
     "output_type": "stream",
     "text": [
      "Divide 10 By 5\n",
      "2.0\n",
      "\n",
      "\n",
      "Divide 10 By 0\n",
      "A number cannot be divided by Zero\n"
     ]
    }
   ],
   "source": [
    "#Example of Decorator function\n",
    "\n",
    "#Defining the decorator function that accepts another function as an argument\n",
    "def Decorator(func):\n",
    "    \n",
    "#Defining the wrapper function that modifies the passed function\n",
    "    def Inner(a, b):\n",
    "        print(\"Divide\", a, \"By\", b)\n",
    "        if b == 0:\n",
    "            print(\"A number cannot be divided by Zero\")\n",
    "            return\n",
    "\n",
    "        return func(a, b)\n",
    "    return Inner\n",
    "\n",
    "@Decorator\n",
    "#Defining the function that needs to be passed as an argument\n",
    "def divide(a, b):\n",
    "    print(a/b)\n",
    "\n",
    "    \n",
    "divide(10,5)\n",
    "print(\"\\n\")\n",
    "divide(10,0)"
   ]
  }
 ],
 "metadata": {
  "kernelspec": {
   "display_name": "Python 3",
   "language": "python",
   "name": "python3"
  },
  "language_info": {
   "codemirror_mode": {
    "name": "ipython",
    "version": 3
   },
   "file_extension": ".py",
   "mimetype": "text/x-python",
   "name": "python",
   "nbconvert_exporter": "python",
   "pygments_lexer": "ipython3",
   "version": "3.8.5"
  }
 },
 "nbformat": 4,
 "nbformat_minor": 4
}
